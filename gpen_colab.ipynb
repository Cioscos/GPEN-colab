{
  "nbformat": 4,
  "nbformat_minor": 0,
  "metadata": {
    "colab": {
      "name": "Untitled0.ipynb",
      "provenance": []
    },
    "kernelspec": {
      "name": "python3",
      "display_name": "Python 3"
    },
    "language_info": {
      "name": "python"
    }
  },
  "cells": [
    {
      "cell_type": "markdown",
      "metadata": {
        "id": "lbYVGvNDnzCT"
      },
      "source": [
        "# Welcome to GPEN for DFL upscaler\n",
        "## With this version you can upscale and rebuilt with AI both frames and aligned images.\n",
        "\n",
        "*credits.* Cioscos [github page](https://github.com/Cioscos)\n",
        "\n",
        "Some examples:\n",
        "![picture](https://i.imgur.com/JUxvfWC.png)\n",
        "\n",
        "\n",
        "---\n",
        "\n"
      ]
    },
    {
      "cell_type": "markdown",
      "metadata": {
        "id": "8sApCGfCqzE8"
      },
      "source": [
        "## Initialize colab machine\n",
        "\n",
        "\n",
        "---\n",
        "\n"
      ]
    },
    {
      "cell_type": "code",
      "metadata": {
        "id": "NafI7Y0As0u_"
      },
      "source": [
        "# Clone the repository\n",
        "!git clone https://github.com/Cioscos/GPEN-colab.git\n",
        "\n",
        "# Download weights from urls\n",
        "!wget -O /content/GPEN-colab/weights -i /content/GPEN-colab/weights/urls.txt\n",
        "\n",
        "# Create examples folder\n",
        "!mkdir /content/GPEN-colab/examples\n",
        "!mkdir /content/GPEN-colab/examples/imgs\n",
        "!mkdir /content/GPEN-colab/examples/outs\n",
        "\n",
        "# Install dependencies\n",
        "!pip install -r /content/GPEN-colab/requirements.txt\n",
        "!wget -O /content/GPEN-colab https://github.com/ninja-build/ninja/releases/download/v1.8.2/ninja-linux.zip\n",
        "!unzip /content/GPEN-colab/ninja-linux.zip -d /usr/local/bin/\n",
        "!sudo update-alternatives --install /usr/bin/ninja ninja /usr/local/bin/ninja 1 --force\n",
        "!rm /content/GPEN-colab/ninja-linux.zip\n",
        "\n",
        "# Change directory to the rood of GPEN\n",
        "%cd \"/content/GPEN-colab\"\n",
        "print('\\nDone!')"
      ],
      "execution_count": null,
      "outputs": []
    },
    {
      "cell_type": "code",
      "metadata": {
        "id": "uvoyUSaJyNaS"
      },
      "source": [
        "#@title Upload single image or more to be enhance. (JUST jpg files)\n",
        "from google.colab import files\n",
        "\n",
        "%cd \"examples/imgs\"\n",
        "uploaded = files.upload()\n",
        "%cd \"../..\"\n",
        "print('\\nDone!')"
      ],
      "execution_count": null,
      "outputs": []
    },
    {
      "cell_type": "code",
      "metadata": {
        "id": "tTHuU4R1zMsw"
      },
      "source": [
        "#@title Import aligned.zip or whatever from Google Drive\n",
        "archive_name = \"workspace.zip\" #@param {type:\"string\"}\n",
        "\n",
        "from google.colab import drive\n",
        "drive.mount('/content/drive', force_remount=True)\n",
        "\n",
        "# Copy from drive\n",
        "copy_str = f\"/content/drive/MyDrive/{archive_name} /content/GPEN-colab/examples/imgs\"\n",
        "unzip_str = f' -q {archive_name}'\n",
        "!cp $copy_str\n",
        "!unzip $unzip_str\n",
        "!rm $archive_name\n",
        "print('\\nDone!')"
      ],
      "execution_count": null,
      "outputs": []
    },
    {
      "cell_type": "code",
      "metadata": {
        "id": "FaQGaJ_J2wKr"
      },
      "source": [
        "#@title Start GPEN\n",
        "!python face_enhancement.py"
      ],
      "execution_count": null,
      "outputs": []
    },
    {
      "cell_type": "code",
      "metadata": {
        "id": "bbftZrK03Mac"
      },
      "source": [
        "#@title Zip result files\n",
        "!rm /content/outs.zip\n",
        "!zip -r -q /content/outs.zip /content/GPEN/examples/outs\n",
        "print('\\nDone!')"
      ],
      "execution_count": null,
      "outputs": []
    },
    {
      "cell_type": "code",
      "metadata": {
        "id": "0r5bOdwm53XL"
      },
      "source": [
        "#@title Upload on Google drive\n",
        "copy_str = \"/content/outs.zip /content/drive/MyDrive/\"\n",
        "!cp $copy_str\n",
        "print('\\nDone!')"
      ],
      "execution_count": null,
      "outputs": []
    },
    {
      "cell_type": "code",
      "metadata": {
        "id": "Mb9dhL8C68cx"
      },
      "source": [
        "#@title Download file on pc (slow if far from the server)\n",
        "from google.colab import files\n",
        "files.download('/content/outs.zip')\n",
        "print('\\nDone!')"
      ],
      "execution_count": null,
      "outputs": []
    }
  ]
}