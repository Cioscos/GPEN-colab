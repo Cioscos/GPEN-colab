{
  "nbformat": 4,
  "nbformat_minor": 0,
  "metadata": {
    "colab": {
      "name": "Untitled0.ipynb",
      "provenance": []
    },
    "kernelspec": {
      "name": "python3",
      "display_name": "Python 3"
    },
    "language_info": {
      "name": "python"
    },
    "accelerator": "GPU"
  },
  "cells": [
    {
      "cell_type": "markdown",
      "metadata": {
        "id": "lbYVGvNDnzCT"
      },
      "source": [
        "# Welcome to GPEN for DFL upscaler\n",
        "## With this version you can upscale and rebuilt with AI both frames and aligned images.\n",
        "\n",
        "*credits.* Cioscos [github page](https://github.com/Cioscos)\n",
        "\n",
        "Some examples:\n",
        "![picture](https://i.imgur.com/JUxvfWC.png)\n",
        "\n",
        "\n",
        "---\n",
        "\n"
      ]
    },
    {
      "cell_type": "markdown",
      "metadata": {
        "id": "8sApCGfCqzE8"
      },
      "source": [
        "## Initialize colab machine\n",
        "\n",
        "\n",
        "---\n",
        "\n"
      ]
    },
    {
      "cell_type": "code",
      "metadata": {
        "id": "NafI7Y0As0u_",
        "cellView": "form"
      },
      "source": [
        "#@title 1) Install Gpen\n",
        "# Clone the repository\n",
        "!git clone https://github.com/Cioscos/GPEN-colab.git\n",
        "\n",
        "# Download weights from urls\n",
        "!wget -i /content/GPEN-colab/weights/urls.txt -P /content/GPEN-colab/weights \n",
        "\n",
        "# Create examples folder\n",
        "!mkdir /content/GPEN-colab/examples\n",
        "!mkdir /content/GPEN-colab/examples/imgs\n",
        "!mkdir /content/GPEN-colab/examples/outs\n",
        "\n",
        "# Install dependencies\n",
        "!pip install torch==1.7.1 torchvision==0.8.2 torchaudio==0.7.2\n",
        "!pip install pip install opencv-python\n",
        "!wget -P /content/GPEN-colab https://github.com/ninja-build/ninja/releases/download/v1.8.2/ninja-linux.zip\n",
        "!sudo unzip /content/GPEN-colab/ninja-linux.zip -d /usr/local/bin/\n",
        "!sudo update-alternatives --install /usr/bin/ninja ninja /usr/local/bin/ninja 1 --force\n",
        "!rm /content/GPEN-colab/ninja-linux.zip\n",
        "\n",
        "# Change directory to the rood of GPEN\n",
        "%cd \"/content/GPEN-colab\"\n",
        "print('\\nDone!')"
      ],
      "execution_count": null,
      "outputs": []
    },
    {
      "cell_type": "code",
      "metadata": {
        "id": "uvoyUSaJyNaS",
        "cellView": "form"
      },
      "source": [
        "#@title 2) Upload single image or more to be enhance. (JUST jpg files)\n",
        "from google.colab import files\n",
        "\n",
        "%cd \"examples/imgs\"\n",
        "uploaded = files.upload()\n",
        "%cd \"../..\"\n",
        "print('\\nDone!')"
      ],
      "execution_count": null,
      "outputs": []
    },
    {
      "cell_type": "code",
      "metadata": {
        "id": "tTHuU4R1zMsw",
        "cellView": "form"
      },
      "source": [
        "#@title 3) Import aligned.zip or whatever from Google Drive\n",
        "archive_name = \"aligned.zip\" #@param {type:\"string\"}\n",
        "\n",
        "from google.colab import drive\n",
        "drive.mount('/content/drive', force_remount=True)\n",
        "\n",
        "# Copy from drive\n",
        "copy_str = f\"/content/drive/MyDrive/{archive_name} /content/GPEN-colab/examples/imgs\"\n",
        "unzip_str = f' -q /content/GPEN-colab/examples/imgs/{archive_name} -d /content/GPEN-colab/examples/imgs'\n",
        "rm_str = f'/content/GPEN-colab/examples/imgs/{archive_name}'\n",
        "!cp $copy_str\n",
        "!unzip $unzip_str\n",
        "!rm $rm_str\n",
        "print('\\nDone!')"
      ],
      "execution_count": null,
      "outputs": []
    },
    {
      "cell_type": "code",
      "metadata": {
        "id": "FaQGaJ_J2wKr",
        "cellView": "form"
      },
      "source": [
        "#@title 4) Start GPEN\n",
        "%cd \"/content/GPEN-colab\"\n",
        "!python face_enhancement.py"
      ],
      "execution_count": null,
      "outputs": []
    },
    {
      "cell_type": "code",
      "metadata": {
        "id": "bbftZrK03Mac",
        "cellView": "form"
      },
      "source": [
        "#@title 5) Zip result files\n",
        "!rm /content/outs.zip\n",
        "zip_str = \"-r -q /content/outs.zip /content/GPEN-colab/examples/outs\"\n",
        "!zip $zip_str\n",
        "print('\\nDone!')"
      ],
      "execution_count": null,
      "outputs": []
    },
    {
      "cell_type": "code",
      "metadata": {
        "cellView": "form",
        "id": "YKFtAR8VMCKC"
      },
      "source": [
        "#@title 5.1) Create video from image sequence.\n",
        "fps = 30 #@param {type:\"number\"}\n",
        "#@markdown In pattern you can specify how the output files names are made. For example is file name is: 00001.jpg in pattern you will write: %5d\n",
        "\n",
        "#@markdown Other example: File name: out_1.jpg Pattern: out_%d\n",
        "\n",
        "#@markdown Other example: File name: 1.jpg Pattern: %d\n",
        "pattern = '%5d' #@param {type:\"string\"}\n",
        "\n",
        "ffmpeg_str = f'-framerate {fps} -i /content/GPEN-colab/examples/outs/{pattern}.jpg /content/output.mp4'\n",
        "!ffmpeg $ffmpeg_str"
      ],
      "execution_count": null,
      "outputs": []
    },
    {
      "cell_type": "code",
      "metadata": {
        "id": "0r5bOdwm53XL",
        "cellView": "form"
      },
      "source": [
        "#@title Upload on Google drive\n",
        "copy_str1 = \"/content/outs.zip /content/drive/MyDrive/\"\n",
        "copy_str2 = \"/content/output.mp4 /content/drive/MyDrive/\"\n",
        "!cp $copy_str1\n",
        "!cp $copy_str2\n",
        "print('\\nDone!')"
      ],
      "execution_count": null,
      "outputs": []
    },
    {
      "cell_type": "code",
      "metadata": {
        "id": "Mb9dhL8C68cx",
        "cellView": "form"
      },
      "source": [
        "#@title Download file on pc (slow if far from the server)\n",
        "from google.colab import files\n",
        "files.download('/content/outs.zip')\n",
        "print('\\nDone!')"
      ],
      "execution_count": null,
      "outputs": []
    }
  ]
}
